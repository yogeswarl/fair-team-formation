{
 "cells": [
  {
   "cell_type": "code",
   "execution_count": null,
   "metadata": {},
   "outputs": [],
   "source": [
    "#run this code in Google Colab  https://colab.research.google.com/"
   ]
  },
  {
   "cell_type": "code",
   "execution_count": 1,
   "metadata": {},
   "outputs": [
    {
     "name": "stdout",
     "output_type": "stream",
     "text": [
      "Cloning into 'fair-team-formation'...\n",
      "remote: Enumerating objects: 63, done.\u001b[K\n",
      "remote: Counting objects: 100% (63/63), done.\u001b[K\n",
      "remote: Compressing objects: 100% (41/41), done.\u001b[K\n",
      "remote: Total 63 (delta 23), reused 58 (delta 18), pack-reused 0\u001b[K\n",
      "Receiving objects: 100% (63/63), 116.53 KiB | 1.40 MiB/s, done.\n",
      "Resolving deltas: 100% (23/23), done.\n",
      "/Users/yogeswarl/PycharmProjects/FairTeamFormation/fair-team-formation\n"
     ]
    }
   ],
   "source": [
    "!git clone https://github.com/yogeswarl/fair-team-formation.git\n",
    "%cd fair-team-formation"
   ]
  },
  {
   "cell_type": "code",
   "execution_count": 2,
   "metadata": {},
   "outputs": [
    {
     "name": "stdout",
     "output_type": "stream",
     "text": [
      "numpy==1.21.0\n",
      "pandas==1.4.1\n",
      "matplotlib==3.5.1\n",
      "reranking~=0.3.6"
     ]
    },
    {
     "name": "stderr",
     "output_type": "stream",
     "text": [
      "UsageError: Line magic function `%%writefile` not found.\n"
     ]
    }
   ],
   "source": [
    "!cat requirements.txt\n",
    "%%writefile requirements.txt"
   ]
  },
  {
   "cell_type": "code",
   "execution_count": 4,
   "metadata": {},
   "outputs": [
    {
     "name": "stdout",
     "output_type": "stream",
     "text": [
      "Traceback (most recent call last):\n",
      "  File \"main.py\", line 4, in <module>\n",
      "    from common.plot import plot_stats\n",
      "  File \"/Users/yogeswarl/PycharmProjects/FairTeamFormation/fair-team-formation/common/plot.py\", line 3, in <module>\n",
      "    import matplotlib.pyplot as plt\n",
      "  File \"/Users/yogeswarl/opt/anaconda3/lib/python3.8/site-packages/matplotlib/pyplot.py\", line 2230, in <module>\n",
      "    switch_backend(rcParams[\"backend\"])\n",
      "  File \"/Users/yogeswarl/opt/anaconda3/lib/python3.8/site-packages/matplotlib/pyplot.py\", line 267, in switch_backend\n",
      "    class backend_mod(matplotlib.backend_bases._Backend):\n",
      "  File \"/Users/yogeswarl/opt/anaconda3/lib/python3.8/site-packages/matplotlib/pyplot.py\", line 268, in backend_mod\n",
      "    locals().update(vars(importlib.import_module(backend_name)))\n",
      "  File \"/Users/yogeswarl/opt/anaconda3/lib/python3.8/importlib/__init__.py\", line 127, in import_module\n",
      "    return _bootstrap._gcd_import(name[level:], package, level)\n",
      "ModuleNotFoundError: No module named 'matplotlib_inline'\n"
     ]
    }
   ],
   "source": [
    "!pip install -r requirements.txt\n",
    "!python main.py"
   ]
  }
 ],
 "metadata": {
  "interpreter": {
   "hash": "31f2aee4e71d21fbe5cf8b01ff0e069b9275f58929596ceb00d14d90e3e16cd6"
  },
  "kernelspec": {
   "display_name": "Python 3.8.9 64-bit",
   "language": "python",
   "name": "python3"
  },
  "language_info": {
   "codemirror_mode": {
    "name": "ipython",
    "version": 3
   },
   "file_extension": ".py",
   "mimetype": "text/x-python",
   "name": "python",
   "nbconvert_exporter": "python",
   "pygments_lexer": "ipython3",
   "version": "3.8.9"
  },
  "orig_nbformat": 4
 },
 "nbformat": 4,
 "nbformat_minor": 2
}
